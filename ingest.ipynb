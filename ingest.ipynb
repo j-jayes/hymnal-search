{
 "cells": [
  {
   "cell_type": "code",
   "execution_count": null,
   "metadata": {},
   "outputs": [],
   "source": []
  },
  {
   "cell_type": "markdown",
   "metadata": {},
   "source": [
    "# Purpose\n",
    "\n",
    "The project is to create a searcheable database of hymns that my dad can use for specific days. \n",
    "\n",
    "I want to take hymns ancient and modern from PDF, create a file that has the hymn number, first line, and the hymn itself.\n",
    "\n",
    "Then I want to create embeddings of the text of the hymns and then use those embeddings to search for hymns that are similar to the phrase that is searched for."
   ]
  },
  {
   "cell_type": "code",
   "execution_count": 15,
   "metadata": {},
   "outputs": [
    {
     "name": "stdout",
     "output_type": "stream",
     "text": [
      "PDF has been saved to  c:\\Users\\User\\Documents\\Recon\\hymnal-search\\data\\raw\\pdf\\new_hymns-ancient-and-modern.pdf\n"
     ]
    }
   ],
   "source": [
    "import PyPDF2\n",
    "import pathlib\n",
    "\n",
    "# Your pdf path\n",
    "pdf_path = pathlib.Path.cwd() / 'data' / 'raw' / 'pdf'\n",
    "pdf_file_path = pdf_path / 'hymns-ancient-and-modern.pdf'\n",
    "\n",
    "# Create a pdf reader object\n",
    "pdf_reader = PyPDF2.PdfReader(str(pdf_file_path))\n",
    "\n",
    "# Check total number of pages\n",
    "total_pages = len(pdf_reader.pages)\n",
    "if total_pages < 372:\n",
    "    raise ValueError(\"PDF has fewer than 372 pages.\")\n",
    "\n",
    "# Initialize a writer object\n",
    "pdf_writer = PyPDF2.PdfWriter()\n",
    "\n",
    "# Loop through pages and add to writer object\n",
    "for page_num in range(24, 372):  # Python uses 0-index, so subtract 1 from the page numbers\n",
    "    page = pdf_reader.pages[page_num]\n",
    "    pdf_writer.add_page(page)\n",
    "\n",
    "# Write out the new pdf\n",
    "new_pdf_file_path = pdf_path / 'new_hymns-ancient-and-modern.pdf'\n",
    "with open(new_pdf_file_path, 'wb') as out:\n",
    "    pdf_writer.write(out)\n",
    "\n",
    "print(\"PDF has been saved to \", str(new_pdf_file_path))\n"
   ]
  },
  {
   "cell_type": "code",
   "execution_count": 16,
   "metadata": {},
   "outputs": [
    {
     "name": "stdout",
     "output_type": "stream",
     "text": [
      "PDF has been saved to  c:\\Users\\User\\Documents\\Recon\\hymnal-search\\data\\raw\\pdf\\just10_hymns-ancient-and-modern.pdf\n"
     ]
    }
   ],
   "source": [
    "import PyPDF2\n",
    "import pathlib\n",
    "\n",
    "# Your pdf path\n",
    "pdf_path = pathlib.Path.cwd() / 'data' / 'raw' / 'pdf'\n",
    "pdf_file_path = pdf_path / 'hymns-ancient-and-modern.pdf'\n",
    "\n",
    "# Create a pdf reader object\n",
    "pdf_reader = PyPDF2.PdfReader(str(pdf_file_path))\n",
    "\n",
    "# Check total number of pages\n",
    "total_pages = len(pdf_reader.pages)\n",
    "if total_pages < 372:\n",
    "    raise ValueError(\"PDF has fewer than 372 pages.\")\n",
    "\n",
    "# Initialize a writer object\n",
    "pdf_writer = PyPDF2.PdfWriter()\n",
    "\n",
    "# Loop through pages and add to writer object\n",
    "for page_num in range(24, 34):  # Python uses 0-index, so subtract 1 from the page numbers\n",
    "    page = pdf_reader.pages[page_num]\n",
    "    pdf_writer.add_page(page)\n",
    "\n",
    "# Write out the new pdf\n",
    "new_pdf_file_path = pdf_path / 'just10_hymns-ancient-and-modern.pdf'\n",
    "with open(new_pdf_file_path, 'wb') as out:\n",
    "    pdf_writer.write(out)\n",
    "\n",
    "print(\"PDF has been saved to \", str(new_pdf_file_path))\n"
   ]
  }
 ],
 "metadata": {
  "kernelspec": {
   "display_name": "Python 3",
   "language": "python",
   "name": "python3"
  },
  "language_info": {
   "codemirror_mode": {
    "name": "ipython",
    "version": 3
   },
   "file_extension": ".py",
   "mimetype": "text/x-python",
   "name": "python",
   "nbconvert_exporter": "python",
   "pygments_lexer": "ipython3",
   "version": "3.9.7"
  },
  "orig_nbformat": 4
 },
 "nbformat": 4,
 "nbformat_minor": 2
}
